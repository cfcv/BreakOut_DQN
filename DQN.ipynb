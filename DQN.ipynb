{
 "cells": [
  {
   "cell_type": "markdown",
   "metadata": {},
   "source": [
    "# Breakout Deep Q-Learning \n",
    "\n",
    "* [1](#step1): Making sure the environment is working fine\n",
    "* [2](#step2): Creating the Agent\n",
    "* [3](#step3): Training the Agent\n",
    "* [4](#step4): Testing the Agent"
   ]
  },
  {
   "cell_type": "markdown",
   "metadata": {},
   "source": [
    "<a id='step1'></a>\n",
    "## 1. Making sure that the environment is working "
   ]
  },
  {
   "cell_type": "code",
   "execution_count": 1,
   "metadata": {},
   "outputs": [],
   "source": [
    "import gym\n",
    "import time\n",
    "import numpy as np\n",
    "import matplotlib.pyplot as plt\n",
    "\n",
    "env = gym.make('BreakoutDeterministic-v4')\n",
    "\n",
    "state = env.reset()\n",
    "env.render()\n",
    "is_done = False\n",
    "\n",
    "while(not is_done):\n",
    "    action = env.action_space.sample()\n",
    "    state, reward, is_done, _  = env.step(action)\n",
    "\n",
    "    env.render()\n",
    "    time.sleep(0.02)\n",
    "\n",
    "env.close()"
   ]
  },
  {
   "cell_type": "markdown",
   "metadata": {},
   "source": [
    "<a id='step2'></a>\n",
    "## 2. Creating the Agent "
   ]
  },
  {
   "cell_type": "markdown",
   "metadata": {},
   "source": [
    "##### 2.1 In this part we will also initialize the replay memory "
   ]
  },
  {
   "cell_type": "code",
   "execution_count": 2,
   "metadata": {},
   "outputs": [
    {
     "name": "stderr",
     "output_type": "stream",
     "text": [
      "Using TensorFlow backend.\n"
     ]
    }
   ],
   "source": [
    "from agents.dqn_agent import Agent\n",
    "from agents import utils\n",
    "import pickle\n",
    "import random"
   ]
  },
  {
   "cell_type": "code",
   "execution_count": 3,
   "metadata": {},
   "outputs": [],
   "source": [
    "INPUT_SHAPE = (82,72,4)\n",
    "batch_size = 32\n",
    "n_actions = env.action_space.n\n",
    "memory_size = 100000\n",
    "memory_initial_frames = 50000\n",
    "gamma = 0.99"
   ]
  },
  {
   "cell_type": "code",
   "execution_count": 5,
   "metadata": {},
   "outputs": [],
   "source": [
    "agent = Agent(input_shape=INPUT_SHAPE, n_actions=4, batch_size=batch_size, memory_size=memory_size, memory_initial_frames=memory_initial_frames, gamma=gamma, env=env)"
   ]
  },
  {
   "cell_type": "code",
   "execution_count": null,
   "metadata": {},
   "outputs": [],
   "source": [
    "agent.initialize_replay_memory()"
   ]
  },
  {
   "cell_type": "markdown",
   "metadata": {},
   "source": [
    "<a id='step3'></a>\n",
    "## 3. Training the Agent "
   ]
  },
  {
   "cell_type": "code",
   "execution_count": 7,
   "metadata": {},
   "outputs": [],
   "source": [
    "episodes = 10000\n",
    "max_frames = 1000000\n",
    "update_target_frequency = 5000\n",
    "epsilon = 1.0\n",
    "pas = 0.9/600000"
   ]
  },
  {
   "cell_type": "code",
   "execution_count": null,
   "metadata": {},
   "outputs": [],
   "source": [
    "current_frame = 0\n",
    "total_reward_episode = 0\n",
    "history = []\n",
    "current_episode = 0\n",
    "\n",
    "while(True):\n",
    "    #First state of the episode\n",
    "    state = env.reset()\n",
    "    state1, r1, is_done1, _  = env.step(0)\n",
    "    state2, r2, is_done2, _  = env.step(0)\n",
    "    state3, r3, is_done3, _  = env.step(0)\n",
    "    total_reward_episode = r1 + r2 + r3\n",
    "\n",
    "    initial_state = utils.generate_input(state, state1, state2, state3)\n",
    "    is_terminal_state = False\n",
    "\n",
    "    start_frame = current_frame\n",
    "    while(not is_terminal_state):\n",
    "        #e-greedy policy for choosing the action\n",
    "        if(random.random() < epsilon):\n",
    "            action = env.action_space.sample()\n",
    "        else:\n",
    "            qs = agent.predict(initial_state.reshape(-1, *initial_state.shape))\n",
    "            action = np.argmax(qs)\n",
    "\n",
    "        #Taking the action and saving the new state\n",
    "        state, reward, is_done, _  = env.step(action)\n",
    "        state1, reward1, is_done1, _  = env.step(action)\n",
    "        state2, reward2, is_done2, _  = env.step(action)\n",
    "        state3, reward3, is_done3, _  = env.step(action) \n",
    "        total_reward_episode += reward + reward1 + reward2 + reward3\n",
    "\n",
    "        next_state = utils.generate_input(state, state1, state2, state3)\n",
    "        total_reward = utils.transform_reward(reward + reward1 + reward2 + reward3)\n",
    "        is_terminal_state = is_done or is_done1 or is_done2 or is_done3\n",
    "\n",
    "        #Stocking the transition\n",
    "        agent.update_replay_memory([initial_state, action, total_reward, next_state, is_terminal_state])\n",
    "\n",
    "        agent.train()\n",
    "        initial_state = next_state\n",
    "        current_frame += 1\n",
    "        \n",
    "        #Updating the target network acording to the updating frequency\n",
    "        if(current_frame%update_target_frequency == 0):\n",
    "            agent.update_target()\n",
    "        if(epsilon > 0.1):\n",
    "            epsilon -= pas\n",
    "        \n",
    "\n",
    "    history.append(total_reward_episode)\n",
    "    current_episode += 1\n",
    "    \n",
    "    #Stock the history in a file every 10000 episodes \n",
    "    #to free some memory and save the models\n",
    "    if(current_episode%10000 == 0):\n",
    "        index = int(current_episode/episodes)\n",
    "        pickle.dump(history, open( \"history\" + str(index) + \".pk\", \"wb\" ) )\n",
    "        history.clear()\n",
    "        agent.save()\n",
    "\n",
    "    print('\\r', end='')\n",
    "    print(current_frame, ' of ', max_frames, \"n_frames:\", (current_frame - start_frame), \" reward: \", total_reward_episode, \" epsilon: \", epsilon, \"Episode: \", current_episode, end='')\n",
    "\n",
    "    if(current_frame > max_frames):\n",
    "        break"
   ]
  },
  {
   "cell_type": "markdown",
   "metadata": {},
   "source": [
    "<a id='step4'></a>\n",
    "## 4. Testing the Agent "
   ]
  },
  {
   "cell_type": "code",
   "execution_count": 11,
   "metadata": {},
   "outputs": [],
   "source": [
    "agent.model.load_weights('saved_models/model_1_000_000.h5')"
   ]
  },
  {
   "cell_type": "code",
   "execution_count": 15,
   "metadata": {},
   "outputs": [
    {
     "name": "stdout",
     "output_type": "stream",
     "text": [
      "Reward:  20.0\n"
     ]
    }
   ],
   "source": [
    "state = env.reset()\n",
    "env.render()\n",
    "time.sleep(6)\n",
    "state1, r1, is_done1, _  = env.step(0)\n",
    "state2, r2, is_done2, _  = env.step(0)\n",
    "state3, r3, is_done3, _  = env.step(0)\n",
    "total_r = r1 + r2 + r3\n",
    "\n",
    "initial_state = utils.generate_input(state, state1, state2, state3)\n",
    "is_terminal_state = False\n",
    "\n",
    "while(not is_terminal_state):\n",
    "    qs = agent.predict(initial_state.reshape(-1, *initial_state.shape))\n",
    "    action = np.argmax(qs)\n",
    "\n",
    "    state, reward, is_done, _  = env.step(action)\n",
    "    state1, reward1, is_done1, _  = env.step(action)\n",
    "    state2, reward2, is_done2, _  = env.step(action)\n",
    "    state3, reward3, is_done3, _  = env.step(action) \n",
    "    total_r += reward + reward1 + reward2 + reward3\n",
    "\n",
    "    next_state = utils.generate_input(state, state1, state2, state3)\n",
    "    total_reward = utils.transform_reward(reward + reward1 + reward2 + reward3)\n",
    "    is_terminal_state = is_done or is_done1 or is_done2 or is_done3\n",
    "    env.render()\n",
    "    initial_state = next_state\n",
    "    time.sleep(0.15)\n",
    "env.close()\n",
    "print(\"Reward: \", total_r)"
   ]
  }
 ],
 "metadata": {
  "kernelspec": {
   "display_name": "Python 3",
   "language": "python",
   "name": "python3"
  },
  "language_info": {
   "codemirror_mode": {
    "name": "ipython",
    "version": 3
   },
   "file_extension": ".py",
   "mimetype": "text/x-python",
   "name": "python",
   "nbconvert_exporter": "python",
   "pygments_lexer": "ipython3",
   "version": "3.5.2"
  }
 },
 "nbformat": 4,
 "nbformat_minor": 2
}
